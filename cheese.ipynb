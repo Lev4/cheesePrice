{
 "cells": [
  {
   "cell_type": "code",
   "execution_count": 3,
   "metadata": {
    "pycharm": {
     "name": "#%%\n"
    }
   },
   "outputs": [],
   "source": [
    "from bs4 import BeautifulSoup\n",
    "import requests\n",
    "import sqlite3\n",
    "from datetime import datetime"
   ]
  },
  {
   "cell_type": "code",
   "execution_count": 2,
   "metadata": {
    "pycharm": {
     "name": "#%%\n"
    }
   },
   "outputs": [],
   "source": [
    "\n",
    "\n",
    "def getCheesePrice():\n",
    "\n",
    "    cheesePriceId = {\n",
    "        \"Фестивальный\" : \"fest_24-price\",\n",
    "        \"Истринский\" : \"ber_1-price\",\n",
    "        \"Винный\" : \"vai_3-price\",\n",
    "        \"Медовый\" : \"med_23-price\",\n",
    "        \"Пивной\" : \"bir_5-price\",\n",
    "        \"Тирольский\" : \"tirol_22-price\",\n",
    "        \"Пошехонский\" : \"posh_76-price\",\n",
    "        \"Колмогоровский\" : \"kolmo_15-price\",\n",
    "        \"Золотой рубль\" : \"gold_16-price\",\n",
    "        \"Губернаторский\" : \"gub_6-price\",\n",
    "        \"Красногорский\" : \"sve_7-price\",\n",
    "    }\n",
    "\n",
    "    url = \"https://parmezan.ru/Zakaz\"\n",
    "    res = requests.get(url)\n",
    "    page = res.text\n",
    "    soup = BeautifulSoup(page, 'html.parser')\n",
    "    cheesePrice = {}\n",
    "\n",
    "    for k, v in cheesePriceId.items():\n",
    "        if soup.find(id=v) is not None:\n",
    "            cheesePrice[k] = soup.find(id=v).text.strip()\n",
    "            cheesePrice['date'] = datetime.today().strftime(\"%b-%d-%Y\")\n",
    "\n",
    "    return cheesePrice\n",
    "\n"
   ]
  },
  {
   "cell_type": "code",
   "execution_count": 10,
   "metadata": {
    "pycharm": {
     "name": "#%%\n"
    }
   },
   "outputs": [
    {
     "data": {
      "text/plain": [
       "{'Фестивальный': '1600',\n",
       " 'date': 'May-18-2020',\n",
       " 'Истринский': '1600',\n",
       " 'Винный': '1800',\n",
       " 'Медовый': '1600',\n",
       " 'Пивной': '1600',\n",
       " 'Тирольский': '1200',\n",
       " 'Колмогоровский': '1200',\n",
       " 'Золотой рубль': '1000',\n",
       " 'Губернаторский': '1200'}"
      ]
     },
     "execution_count": 10,
     "metadata": {},
     "output_type": "execute_result"
    }
   ],
   "source": [
    "getCheesePrice()"
   ]
  },
  {
   "cell_type": "code",
   "execution_count": 4,
   "metadata": {
    "pycharm": {
     "name": "#%%\n"
    }
   },
   "outputs": [],
   "source": [
    "\n",
    "db = 'cheese.db'\n",
    "def query_executer(query, db, get_data=False):\n",
    "    con = sqlite3.connect(db)\n",
    "    c = con.cursor()\n",
    "    if get_data:\n",
    "        data_result =  c.execute(query).fetchall()\n",
    "        con.commit()\n",
    "        con.close()\n",
    "\n",
    "        return data_result\n",
    "    else:\n",
    "        c.execute(query)\n",
    "        con.commit()\n",
    "        con.close()\n",
    "\n",
    "# query_executer(\"SHOW TABLES;\", db=db)"
   ]
  },
  {
   "cell_type": "code",
   "execution_count": 5,
   "metadata": {
    "pycharm": {
     "name": "#%%\n"
    }
   },
   "outputs": [],
   "source": [
    "\n",
    "stmt = \"\"\"\n",
    "CREATE TABLE IF NOT EXISTS users\n",
    "      (user_id text, username text, status text);\"\"\"\n",
    "\n",
    "query_executer(stmt, db=db)"
   ]
  },
  {
   "cell_type": "code",
   "execution_count": 6,
   "metadata": {
    "pycharm": {
     "name": "#%%\n"
    }
   },
   "outputs": [],
   "source": [
    "stmt = \"INSERT INTO users ('user_id','username','status') VALUES ('123211','22asfda12','sdfadadf')\"\n",
    "query_executer(stmt, db=db)\n"
   ]
  },
  {
   "cell_type": "code",
   "execution_count": 7,
   "metadata": {
    "pycharm": {
     "name": "#%%\n"
    }
   },
   "outputs": [
    {
     "data": {
      "text/plain": [
       "[('111333', 'Alex', 'YES'),\n",
       " ('1113sdf3', 'Alex', 'YES'),\n",
       " ('1333sdf3', 'Alex', 'YES'),\n",
       " ('1333ddffsdf3', 'Alex', 'YES'),\n",
       " ('133', 'Alex', 'YES'),\n",
       " ('123211', '22asfda12', 'sdfadadf')]"
      ]
     },
     "execution_count": 7,
     "metadata": {},
     "output_type": "execute_result"
    }
   ],
   "source": [
    "stmt = \"SELECT * FROM users\"\n",
    "query_executer(stmt, db=db, get_data=True)"
   ]
  },
  {
   "cell_type": "code",
   "execution_count": 8,
   "metadata": {
    "pycharm": {
     "name": "#%%\n"
    }
   },
   "outputs": [],
   "source": [
    "class Users:\n",
    "\n",
    "    def __init__(self, db):\n",
    "        self.db = db\n",
    "\n",
    "    def _stmt_executer(self, query, get_data=False):\n",
    "        con = sqlite3.connect(self.db)\n",
    "        c = con.cursor()\n",
    "        if get_data:\n",
    "            data_result =  c.execute(query).fetchall()\n",
    "            con.commit()\n",
    "            con.close()\n",
    "\n",
    "            return data_result\n",
    "        else:\n",
    "            c.execute(query)\n",
    "            con.commit()\n",
    "            con.close()\n",
    "\n",
    "    def create_tab(self):\n",
    "\n",
    "        stmt = \"\"\"\n",
    "        CREATE TABLE IF NOT EXISTS users\n",
    "              (user_id text, username text, status text);\n",
    "        \"\"\"\n",
    "        self._stmt_executer(stmt)\n",
    "\n",
    "\n",
    "    def adduser(self, user_id, username, status):\n",
    "        stmt = f\"INSERT INTO users ('user_id','username','status') VALUES ('{user_id}','{username}','{status}')\"\n",
    "        self._stmt_executer(stmt)\n",
    "\n",
    "    def update_user_status(self, user_id, status):\n",
    "        stmt = f\"UPDATE users SET status = {status} WHERE user_id = {user_id} \"\n",
    "        self._stmt_executer(stmt)\n",
    "\n",
    "\n",
    "    def get_users_to_update(self):\n",
    "        stmt = f\"SELECT user_id FROM users WHERE status = 'YES' \"\n",
    "        self._stmt_executer(stmt)\n",
    "        return self._stmt_executer(stmt, get_data=True)"
   ]
  },
  {
   "cell_type": "code",
   "execution_count": 9,
   "metadata": {
    "pycharm": {
     "name": "#%%\n"
    }
   },
   "outputs": [],
   "source": [
    "db = 'cheese.db'\n",
    "u = Users(db)\n"
   ]
  },
  {
   "cell_type": "code",
   "execution_count": 60,
   "metadata": {
    "pycharm": {
     "name": "#%%\n"
    }
   },
   "outputs": [],
   "source": [
    "# u.create_tab()\n",
    "# u.adduser('133', 'Alex','YES')\n",
    "# u.get_users_to_update()"
   ]
  },
  {
   "cell_type": "code",
   "execution_count": null,
   "metadata": {
    "pycharm": {
     "name": "#%%\n"
    }
   },
   "outputs": [],
   "source": []
  },
  {
   "cell_type": "code",
   "execution_count": null,
   "metadata": {
    "pycharm": {
     "name": "#%%\n"
    }
   },
   "outputs": [],
   "source": [
    "stmt = \"\"\"\n",
    "INSERT INTO users VALUES ('1111','Vasya')\n",
    "\"\"\"\n",
    "c.execute(stmt)\n",
    "conn.commit()\n",
    "conn.close()\n"
   ]
  },
  {
   "cell_type": "code",
   "execution_count": 16,
   "metadata": {
    "pycharm": {
     "name": "#%%\n"
    }
   },
   "outputs": [
    {
     "name": "stdout",
     "output_type": "stream",
     "text": [
      "[]\n"
     ]
    }
   ],
   "source": [
    "conn = sqlite3.connect('cheese.db')\n",
    "c = conn.cursor()\n",
    "stmt = \"\"\"\n",
    "SELECT * FROM users\n",
    "\"\"\"\n",
    "res = c.execute(stmt).fetchall()\n",
    "conn.commit()\n",
    "conn.close()\n",
    "print(res)"
   ]
  },
  {
   "cell_type": "code",
   "execution_count": 58,
   "metadata": {
    "pycharm": {
     "name": "#%%\n"
    }
   },
   "outputs": [],
   "source": [
    "conn = sqlite3.connect('cheese.db')\n",
    "c = conn.cursor()\n",
    "stmt = \"\"\"\n",
    "DROP TABLE users\n",
    "\"\"\"\n",
    "c.execute(stmt).fetchall()\n",
    "conn.commit()\n",
    "conn.close()\n",
    "\n"
   ]
  },
  {
   "cell_type": "code",
   "execution_count": 38,
   "metadata": {
    "pycharm": {
     "name": "#%%\n"
    }
   },
   "outputs": [],
   "source": [
    "class Prices:\n",
    "\n",
    "    def __init__(self, db):\n",
    "        self.db = db\n",
    "\n",
    "    def _stmt_executer(self, query, get_data=False):\n",
    "        con = sqlite3.connect(self.db)\n",
    "        c = con.cursor()\n",
    "        if get_data:\n",
    "            data_result =  c.execute(query).fetchall()\n",
    "            con.commit()\n",
    "            con.close()\n",
    "\n",
    "            return data_result\n",
    "        else:\n",
    "            c.execute(query)\n",
    "            con.commit()\n",
    "            con.close()\n",
    "\n",
    "    def create_tab(self):\n",
    "\n",
    "        stmt = \"\"\"\n",
    "        CREATE TABLE IF NOT EXISTS prices\n",
    "              (cheese_id text, cheesename text, price text, date text);\n",
    "        \"\"\"\n",
    "        self._stmt_executer(stmt)\n",
    "\n",
    "\n",
    "    def addprice(self, cheese_id, cheesename, price,date):\n",
    "        stmt = f\"INSERT INTO prices ('cheese_id','cheesename','price', 'date') VALUES ('{cheese_id}','{cheesename}' ,'{price}','{date}')\"\n",
    "        self._stmt_executer(stmt)\n",
    "\n",
    "    def update_price(self, cheese_id, price):\n",
    "        stmt = f\"UPDATE prices SET price = {price} WHERE cheese_id = {cheese_id} \"\n",
    "        self._stmt_executer(stmt)\n",
    "        \n",
    "    def show_prices(self):\n",
    "        stmt = f\"SELECT * FROM prices\"\n",
    "        return self._stmt_executer(stmt, get_data=True)\n"
   ]
  },
  {
   "cell_type": "code",
   "execution_count": 39,
   "metadata": {},
   "outputs": [],
   "source": [
    "db = \"cheeseprices3.sqlite3\"\n",
    "p = Prices(db)\n",
    "\n",
    "p.create_tab()\n",
    "\n",
    "p.addprice('12dfdf', 'cheese','1240', '20.12.20')"
   ]
  },
  {
   "cell_type": "code",
   "execution_count": 40,
   "metadata": {
    "scrolled": true
   },
   "outputs": [
    {
     "data": {
      "text/plain": [
       "[('12dfdf', 'cheese', '1240', '20.12.20')]"
      ]
     },
     "execution_count": 40,
     "metadata": {},
     "output_type": "execute_result"
    }
   ],
   "source": [
    "p.show_prices()"
   ]
  },
  {
   "cell_type": "code",
   "execution_count": null,
   "metadata": {},
   "outputs": [],
   "source": []
  }
 ],
 "metadata": {
  "kernelspec": {
   "display_name": "Python 3",
   "language": "python",
   "name": "python3"
  },
  "language_info": {
   "codemirror_mode": {
    "name": "ipython",
    "version": 3
   },
   "file_extension": ".py",
   "mimetype": "text/x-python",
   "name": "python",
   "nbconvert_exporter": "python",
   "pygments_lexer": "ipython3",
   "version": "3.7.5"
  }
 },
 "nbformat": 4,
 "nbformat_minor": 1
}
