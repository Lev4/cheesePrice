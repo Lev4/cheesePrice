{
 "cells": [
  {
   "cell_type": "code",
   "execution_count": 1,
   "outputs": [],
   "source": [
    "from bs4 import BeautifulSoup\n",
    "import requests\n",
    "from datetime import datetime"
   ],
   "metadata": {
    "collapsed": false,
    "pycharm": {
     "name": "#%%\n"
    }
   }
  },
  {
   "cell_type": "code",
   "execution_count": 9,
   "outputs": [],
   "source": [
    "\n",
    "\n",
    "def getCheesePrice():\n",
    "\n",
    "    cheesePriceId = {\n",
    "        \"Фестивальный\" : \"fest_24-price\",\n",
    "        \"Истринский\" : \"ber_1-price\",\n",
    "        \"Винный\" : \"vai_3-price\",\n",
    "        \"Медовый\" : \"med_23-price\",\n",
    "        \"Пивной\" : \"bir_5-price\",\n",
    "        \"Тирольский\" : \"tirol_22-price\",\n",
    "        \"Пошехонский\" : \"posh_76-price\",\n",
    "        \"Колмогоровский\" : \"kolmo_15-price\",\n",
    "        \"Золотой рубль\" : \"gold_16-price\",\n",
    "        \"Губернаторский\" : \"gub_6-price\",\n",
    "        \"Красногорский\" : \"sve_7-price\",\n",
    "    }\n",
    "\n",
    "    url = \"https://parmezan.ru/Zakaz\"\n",
    "    res = requests.get(url)\n",
    "    page = res.text\n",
    "    soup = BeautifulSoup(page, 'html.parser')\n",
    "    cheesePrice = {}\n",
    "\n",
    "    for k, v in cheesePriceId.items():\n",
    "        if soup.find(id=v) is not None:\n",
    "            cheesePrice[k] = soup.find(id=v).text.strip()\n",
    "            cheesePrice['date'] = datetime.today().strftime(\"%b-%d-%Y\")\n",
    "\n",
    "    return cheesePrice\n",
    "\n"
   ],
   "metadata": {
    "collapsed": false,
    "pycharm": {
     "name": "#%%\n"
    }
   }
  },
  {
   "cell_type": "code",
   "execution_count": 10,
   "outputs": [
    {
     "data": {
      "text/plain": "{'Фестивальный': '1600',\n 'date': 'May-18-2020',\n 'Истринский': '1600',\n 'Винный': '1800',\n 'Медовый': '1600',\n 'Пивной': '1600',\n 'Тирольский': '1200',\n 'Колмогоровский': '1200',\n 'Золотой рубль': '1000',\n 'Губернаторский': '1200'}"
     },
     "execution_count": 10,
     "metadata": {},
     "output_type": "execute_result"
    }
   ],
   "source": [
    "getCheesePrice()"
   ],
   "metadata": {
    "collapsed": false,
    "pycharm": {
     "name": "#%%\n"
    }
   }
  },
  {
   "cell_type": "code",
   "execution_count": 23,
   "outputs": [
    {
     "ename": "OperationalError",
     "evalue": "near \"SHOW\": syntax error",
     "output_type": "error",
     "traceback": [
      "\u001B[0;31m---------------------------------------------------------------------------\u001B[0m",
      "\u001B[0;31mOperationalError\u001B[0m                          Traceback (most recent call last)",
      "\u001B[0;32m<ipython-input-23-3bf832cde2b7>\u001B[0m in \u001B[0;36m<module>\u001B[0;34m\u001B[0m\n\u001B[1;32m     16\u001B[0m         \u001B[0mcon\u001B[0m\u001B[0;34m.\u001B[0m\u001B[0mclose\u001B[0m\u001B[0;34m(\u001B[0m\u001B[0;34m)\u001B[0m\u001B[0;34m\u001B[0m\u001B[0;34m\u001B[0m\u001B[0m\n\u001B[1;32m     17\u001B[0m \u001B[0;34m\u001B[0m\u001B[0m\n\u001B[0;32m---> 18\u001B[0;31m \u001B[0mquery_executer\u001B[0m\u001B[0;34m(\u001B[0m\u001B[0;34m\"SHOW TABLES;\"\u001B[0m\u001B[0;34m,\u001B[0m \u001B[0mdb\u001B[0m\u001B[0;34m=\u001B[0m\u001B[0mdb\u001B[0m\u001B[0;34m)\u001B[0m\u001B[0;34m\u001B[0m\u001B[0;34m\u001B[0m\u001B[0m\n\u001B[0m\u001B[1;32m     19\u001B[0m \u001B[0;34m\u001B[0m\u001B[0m\n",
      "\u001B[0;32m<ipython-input-23-3bf832cde2b7>\u001B[0m in \u001B[0;36mquery_executer\u001B[0;34m(query, db, get_data)\u001B[0m\n\u001B[1;32m     12\u001B[0m         \u001B[0;32mreturn\u001B[0m \u001B[0mdata_result\u001B[0m\u001B[0;34m\u001B[0m\u001B[0;34m\u001B[0m\u001B[0m\n\u001B[1;32m     13\u001B[0m     \u001B[0;32melse\u001B[0m\u001B[0;34m:\u001B[0m\u001B[0;34m\u001B[0m\u001B[0;34m\u001B[0m\u001B[0m\n\u001B[0;32m---> 14\u001B[0;31m         \u001B[0mc\u001B[0m\u001B[0;34m.\u001B[0m\u001B[0mexecute\u001B[0m\u001B[0;34m(\u001B[0m\u001B[0mquery\u001B[0m\u001B[0;34m)\u001B[0m\u001B[0;34m\u001B[0m\u001B[0;34m\u001B[0m\u001B[0m\n\u001B[0m\u001B[1;32m     15\u001B[0m         \u001B[0mcon\u001B[0m\u001B[0;34m.\u001B[0m\u001B[0mcommit\u001B[0m\u001B[0;34m(\u001B[0m\u001B[0;34m)\u001B[0m\u001B[0;34m\u001B[0m\u001B[0;34m\u001B[0m\u001B[0m\n\u001B[1;32m     16\u001B[0m         \u001B[0mcon\u001B[0m\u001B[0;34m.\u001B[0m\u001B[0mclose\u001B[0m\u001B[0;34m(\u001B[0m\u001B[0;34m)\u001B[0m\u001B[0;34m\u001B[0m\u001B[0;34m\u001B[0m\u001B[0m\n",
      "\u001B[0;31mOperationalError\u001B[0m: near \"SHOW\": syntax error"
     ]
    }
   ],
   "source": [
    "import sqlite3\n",
    "db = 'cheese.db'\n",
    "\n",
    "def query_executer(query, db, get_data=False):\n",
    "    con = sqlite3.connect(db)\n",
    "    c = con.cursor()\n",
    "    if get_data:\n",
    "        data_result =  c.execute(query).fetchall()\n",
    "        con.commit()\n",
    "        con.close()\n",
    "\n",
    "        return data_result\n",
    "    else:\n",
    "        c.execute(query)\n",
    "        con.commit()\n",
    "        con.close()\n",
    "\n",
    "query_executer(\"SHOW TABLES;\", db=db)"
   ],
   "metadata": {
    "collapsed": false,
    "pycharm": {
     "name": "#%%\n"
    }
   }
  },
  {
   "cell_type": "code",
   "execution_count": 28,
   "outputs": [],
   "source": [
    "\n",
    "stmt = \"\"\"\n",
    "CREATE TABLE IF NOT EXISTS users\n",
    "      (user_id text, username text, status text);\"\"\"\n",
    "\n",
    "query_executer(stmt, db=db)"
   ],
   "metadata": {
    "collapsed": false,
    "pycharm": {
     "name": "#%%\n"
    }
   }
  },
  {
   "cell_type": "code",
   "execution_count": 31,
   "outputs": [],
   "source": [
    "stmt = \"INSERT INTO users ('user_id','username','status') VALUES ('123211','22asfda12','sdfadadf')\"\n",
    "query_executer(stmt, db=db)\n"
   ],
   "metadata": {
    "collapsed": false,
    "pycharm": {
     "name": "#%%\n"
    }
   }
  },
  {
   "cell_type": "code",
   "execution_count": 55,
   "outputs": [
    {
     "data": {
      "text/plain": "[('123211', '22asfda12', 'sdfadadf'),\n ('123211', '22asfda12', 'sdfadadf'),\n ('123211', '22asfda12', 'sdfadadf')]"
     },
     "execution_count": 55,
     "metadata": {},
     "output_type": "execute_result"
    }
   ],
   "source": [
    "stmt = \"SELECT * FROM users\"\n",
    "query_executer(stmt, db=db, get_data=True)"
   ],
   "metadata": {
    "collapsed": false,
    "pycharm": {
     "name": "#%%\n"
    }
   }
  },
  {
   "cell_type": "code",
   "execution_count": null,
   "outputs": [],
   "source": [],
   "metadata": {
    "collapsed": false,
    "pycharm": {
     "name": "#%%\n"
    }
   }
  },
  {
   "cell_type": "code",
   "execution_count": null,
   "outputs": [],
   "source": [],
   "metadata": {
    "collapsed": false,
    "pycharm": {
     "name": "#%%\n"
    }
   }
  },
  {
   "cell_type": "code",
   "execution_count": 56,
   "outputs": [],
   "source": [
    "class Users:\n",
    "\n",
    "    def __init__(self, db):\n",
    "        self.db = db\n",
    "\n",
    "    def _stmt_executer(self, query, get_data=False):\n",
    "        con = sqlite3.connect(self.db)\n",
    "        c = con.cursor()\n",
    "        if get_data:\n",
    "            data_result =  c.execute(query).fetchall()\n",
    "            con.commit()\n",
    "            con.close()\n",
    "\n",
    "            return data_result\n",
    "        else:\n",
    "            c.execute(query)\n",
    "            con.commit()\n",
    "            con.close()\n",
    "\n",
    "    def create_tab(self):\n",
    "\n",
    "        stmt = \"\"\"\n",
    "        CREATE TABLE IF NOT EXISTS users\n",
    "              (user_id text, username text, status text);\n",
    "        \"\"\"\n",
    "        self._stmt_executer(stmt)\n",
    "\n",
    "\n",
    "    def adduser(self, user_id, username, status):\n",
    "        stmt = f\"INSERT INTO users ('user_id','username','status') VALUES ('{user_id}','{username}','{status}')\"\n",
    "        self._stmt_executer(stmt)\n",
    "\n",
    "    def update_user_status(self, user_id, status):\n",
    "        stmt = f\"UPDATE users SET status = {status} WHERE user_id = {user_id} \"\n",
    "        self._stmt_executer(stmt)\n",
    "\n",
    "\n",
    "    def get_users_to_update(self):\n",
    "        stmt = f\"SELECT user_id FROM users WHERE status = 'YES' \"\n",
    "        self._stmt_executer(stmt)\n",
    "        return self._stmt_executer(stmt, get_data=True)"
   ],
   "metadata": {
    "collapsed": false,
    "pycharm": {
     "name": "#%%\n"
    }
   }
  },
  {
   "cell_type": "code",
   "execution_count": 59,
   "outputs": [],
   "source": [
    "db = 'cheese.db'\n",
    "u = Users(db)\n"
   ],
   "metadata": {
    "collapsed": false,
    "pycharm": {
     "name": "#%%\n"
    }
   }
  },
  {
   "cell_type": "code",
   "execution_count": 60,
   "outputs": [],
   "source": [
    "u.create_tab()\n"
   ],
   "metadata": {
    "collapsed": false,
    "pycharm": {
     "name": "#%%\n"
    }
   }
  },
  {
   "cell_type": "code",
   "execution_count": 66,
   "outputs": [],
   "source": [
    "u.adduser('133', 'Alex','YES')"
   ],
   "metadata": {
    "collapsed": false,
    "pycharm": {
     "name": "#%%\n"
    }
   }
  },
  {
   "cell_type": "code",
   "execution_count": 62,
   "outputs": [
    {
     "data": {
      "text/plain": "[('111333',)]"
     },
     "execution_count": 62,
     "metadata": {},
     "output_type": "execute_result"
    }
   ],
   "source": [
    "u.get_users_to_update()"
   ],
   "metadata": {
    "collapsed": false,
    "pycharm": {
     "name": "#%%\n"
    }
   }
  },
  {
   "cell_type": "code",
   "execution_count": null,
   "outputs": [],
   "source": [],
   "metadata": {
    "collapsed": false,
    "pycharm": {
     "name": "#%%\n"
    }
   }
  },
  {
   "cell_type": "code",
   "execution_count": null,
   "outputs": [],
   "source": [
    "# Create table\n",
    "# c.execute('''CREATE TABLE users\n",
    "#              (id text, username text)''')\n",
    "\n"
   ],
   "metadata": {
    "collapsed": false,
    "pycharm": {
     "name": "#%%\n"
    }
   }
  },
  {
   "cell_type": "code",
   "execution_count": null,
   "outputs": [],
   "source": [
    "stmt = \"\"\"\n",
    "INSERT INTO users VALUES ('1111','Vasya')\n",
    "\"\"\"\n",
    "c.execute(stmt)\n",
    "conn.commit()\n",
    "conn.close()\n"
   ],
   "metadata": {
    "collapsed": false,
    "pycharm": {
     "name": "#%%\n"
    }
   }
  },
  {
   "cell_type": "code",
   "execution_count": 16,
   "outputs": [
    {
     "name": "stdout",
     "output_type": "stream",
     "text": [
      "[]\n"
     ]
    }
   ],
   "source": [
    "conn = sqlite3.connect('cheese.db')\n",
    "c = conn.cursor()\n",
    "stmt = \"\"\"\n",
    "SELECT * FROM users\n",
    "\"\"\"\n",
    "res = c.execute(stmt).fetchall()\n",
    "conn.commit()\n",
    "conn.close()\n",
    "print(res)"
   ],
   "metadata": {
    "collapsed": false,
    "pycharm": {
     "name": "#%%\n"
    }
   }
  },
  {
   "cell_type": "code",
   "execution_count": 58,
   "outputs": [],
   "source": [
    "conn = sqlite3.connect('cheese.db')\n",
    "c = conn.cursor()\n",
    "stmt = \"\"\"\n",
    "DROP TABLE users\n",
    "\"\"\"\n",
    "c.execute(stmt).fetchall()\n",
    "conn.commit()\n",
    "conn.close()\n",
    "\n"
   ],
   "metadata": {
    "collapsed": false,
    "pycharm": {
     "name": "#%%\n"
    }
   }
  },
  {
   "cell_type": "code",
   "execution_count": null,
   "outputs": [],
   "source": [
    "\n"
   ],
   "metadata": {
    "collapsed": false,
    "pycharm": {
     "name": "#%%\n"
    }
   }
  }
 ],
 "metadata": {
  "kernelspec": {
   "display_name": "Python 3",
   "language": "python",
   "name": "python3"
  },
  "language_info": {
   "codemirror_mode": {
    "name": "ipython",
    "version": 2
   },
   "file_extension": ".py",
   "mimetype": "text/x-python",
   "name": "python",
   "nbconvert_exporter": "python",
   "pygments_lexer": "ipython2",
   "version": "2.7.6"
  }
 },
 "nbformat": 4,
 "nbformat_minor": 0
}