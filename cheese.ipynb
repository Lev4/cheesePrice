{
 "cells": [
  {
   "cell_type": "code",
   "execution_count": 97,
   "metadata": {
    "collapsed": true
   },
   "outputs": [],
   "source": [
    "from bs4 import BeautifulSoup\n",
    "import requests\n",
    "from datetime import datetime\n"
   ]
  },
  {
   "cell_type": "code",
   "execution_count": 102,
   "outputs": [],
   "source": [
    "\n",
    "\n",
    "def getCheesePrice():\n",
    "\n",
    "    cheesePriceId = {\n",
    "        \"Фестивальный\" : \"fest_24-price\",\n",
    "        \"Истринский\" : \"ber_1-price\",\n",
    "        \"Винный\" : \"vai_3-price\",\n",
    "        \"Медовый\" : \"med_23-price\",\n",
    "        \"Пивной\" : \"bir_5-price\",\n",
    "        \"Тирольский\" : \"tirol_22-price\",\n",
    "        \"Пошехонский\" : \"posh_76-price\",\n",
    "        \"Колмогоровский\" : \"kolmo_15-price\",\n",
    "        \"Золотой рубль\" : \"gold_16-price\",\n",
    "        \"Губернаторский\" : \"gub_6-price\",\n",
    "        \"Красногорский\" : \"sve_7-price\",\n",
    "    }\n",
    "\n",
    "    url = \"https://parmezan.ru/Zakaz\"\n",
    "    res = requests.get(url)\n",
    "    page = res.text\n",
    "    soup = BeautifulSoup(page, 'html.parser')\n",
    "    cheesePrice = {}\n",
    "\n",
    "    for k, v in cheesePriceId.items():\n",
    "        if soup.find(id=v) is not None:\n",
    "            cheesePrice[k] = soup.find(id=v).text.strip()\n",
    "            cheesePrice['date'] = datetime.today().strftime(\"%b-%d-%Y\")\n",
    "\n",
    "    return cheesePrice\n",
    "\n"
   ],
   "metadata": {
    "collapsed": false,
    "pycharm": {
     "name": "#%%\n"
    }
   }
  },
  {
   "cell_type": "code",
   "execution_count": 103,
   "outputs": [
    {
     "data": {
      "text/plain": "{'Фестивальный': '1600',\n 'date': 'May-17-2020',\n 'Истринский': '1600',\n 'Винный': '1800',\n 'Медовый': '1600',\n 'Пивной': '1600',\n 'Тирольский': '1200',\n 'Колмогоровский': '1200',\n 'Золотой рубль': '1000',\n 'Губернаторский': '1200'}"
     },
     "execution_count": 103,
     "metadata": {},
     "output_type": "execute_result"
    }
   ],
   "source": [
    "getCheesePrice()"
   ],
   "metadata": {
    "collapsed": false,
    "pycharm": {
     "name": "#%%\n"
    }
   }
  },
  {
   "cell_type": "code",
   "execution_count": null,
   "outputs": [],
   "source": [
    "\n"
   ],
   "metadata": {
    "collapsed": false,
    "pycharm": {
     "name": "#%%\n"
    }
   }
  }
 ],
 "metadata": {
  "kernelspec": {
   "display_name": "Python 3",
   "language": "python",
   "name": "python3"
  },
  "language_info": {
   "codemirror_mode": {
    "name": "ipython",
    "version": 2
   },
   "file_extension": ".py",
   "mimetype": "text/x-python",
   "name": "python",
   "nbconvert_exporter": "python",
   "pygments_lexer": "ipython2",
   "version": "2.7.6"
  }
 },
 "nbformat": 4,
 "nbformat_minor": 0
}